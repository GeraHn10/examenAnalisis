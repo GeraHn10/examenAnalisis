{
  "nbformat": 4,
  "nbformat_minor": 0,
  "metadata": {
    "colab": {
      "name": "minimum spanning tree .ipynb",
      "provenance": [],
      "collapsed_sections": [],
      "authorship_tag": "ABX9TyN0S9Xn/xN7zEryORhC0IMX",
      "include_colab_link": true
    },
    "kernelspec": {
      "name": "python3",
      "display_name": "Python 3"
    }
  },
  "cells": [
    {
      "cell_type": "markdown",
      "metadata": {
        "id": "view-in-github",
        "colab_type": "text"
      },
      "source": [
        "<a href=\"https://colab.research.google.com/github/GeraHn10/examenAnalisis/blob/main/minimum_spanning_tree_.ipynb\" target=\"_parent\"><img src=\"https://colab.research.google.com/assets/colab-badge.svg\" alt=\"Open In Colab\"/></a>"
      ]
    },
    {
      "cell_type": "markdown",
      "metadata": {
        "id": "yq2KKenIfUGa"
      },
      "source": [
        "# Un árbol de expansión mínimo (MST) o un árbol de expansión de peso mínimo es un subconjunto de los bordes de un gráfico no dirigido con ponderación de borde conectado que conecta todos los vértices juntos, sin ciclos y con el peso de borde total mínimo posible. Es decir, es un árbol de expansión cuya suma de pesos de borde es lo más pequeña posible. De manera más general, cualquier gráfico no dirigido con ponderación de borde (no necesariamente conectado) tiene un bosque de expansión mínimo, que es una unión de los árboles de expansión mínimos para sus componentes conectados\n"
      ]
    },
    {
      "cell_type": "markdown",
      "metadata": {
        "id": "t1XVVDy8fSMp"
      },
      "source": [
        "# Analisis de Complejidad\n",
        "\n",
        "El analisis de complejidad es variante segun su implementacion dando diferente niveles de complejidad pero los principales pueden ser \n",
        "O(bordes LOG VERTICES)\n",
        "Podemos ver que todo va a variar en la implementacion del algoritmos ya que el numeros de vertices y bordes consecuentes en la ejecucion del codigo.  \n",
        "\n",
        "#Analisis Cualitativos\n",
        "\n",
        "Esto esta en otro nivel llevando la complejidad a un punto variable ya que pueden variar segun su implementacion mas sin embargo es el Titanic que si logra llegar a NUEVA YORK es un montruo en pocas palabras alta complejidad pero alto nivel de eficiencia y mejor ejecucion. Cabe resaltar que de todos los algoritmos que hemos visto este es el mas complicado y que su manjeo de entrada de datos es alta. Pero recordemos mientras mejor sea su implementacion mas eficiente sera !!\n",
        "\n"
      ]
    }
  ]
}