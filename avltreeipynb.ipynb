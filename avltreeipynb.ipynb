{
  "nbformat": 4,
  "nbformat_minor": 0,
  "metadata": {
    "colab": {
      "name": "avltreeipynb",
      "provenance": [],
      "collapsed_sections": [],
      "authorship_tag": "ABX9TyM8a9Pc1/AuWoBGyF+IZgN/",
      "include_colab_link": true
    },
    "kernelspec": {
      "name": "python3",
      "display_name": "Python 3"
    }
  },
  "cells": [
    {
      "cell_type": "markdown",
      "metadata": {
        "id": "view-in-github",
        "colab_type": "text"
      },
      "source": [
        "<a href=\"https://colab.research.google.com/github/GeraHn10/examenAnalisis/blob/main/avltreeipynb.ipynb\" target=\"_parent\"><img src=\"https://colab.research.google.com/assets/colab-badge.svg\" alt=\"Open In Colab\"/></a>"
      ]
    },
    {
      "cell_type": "code",
      "metadata": {
        "colab": {
          "base_uri": "https://localhost:8080/",
          "height": 350
        },
        "id": "eX1QVgx-6NJ_",
        "outputId": "cabfbee6-ba1a-473f-97e6-8230570feef3"
      },
      "source": [
        "import matplotlib.pyplot as plt\n",
        "import numpy as np\n",
        "import time as t\n",
        "class nodo(object): \n",
        "\tdef __init__(self, contenido): \n",
        "\t\tself.contenido = contenido \n",
        "\t\tself.izquierdo = None\n",
        "\t\tself.derecho = None\n",
        "\t\tself.altura = 1\n",
        "\n",
        "class AVL_Tree(object): \n",
        "\n",
        "\t \n",
        "\tdef insert(self, raiz, llave): \n",
        "\t\n",
        "\t\n",
        "\t\tif not raiz: \n",
        "\t\t\treturn nodo(llave) \n",
        "\t\telif llave < raiz.contenido: \n",
        "\t\t\traiz.izquierdo = self.insert(raiz.izquierdo, llave) \n",
        "\t\telse: \n",
        "\t\t\traiz.derecho = self.insert(raiz.derecho, llave) \n",
        "   \n",
        "\t\traiz.altura = 1 + max(self.getaltura(raiz.izquierdo), \n",
        "\t\t\t\t\t\tself.getaltura(raiz.derecho)) \n",
        "\n",
        "\t\tbal = self.getbal(raiz) \n",
        "\n",
        "\n",
        "\t\tif bal > 1 and llave < raiz.izquierdo.contenido: \n",
        "\t\t\treturn self.derechoRotate(raiz) \n",
        "\n",
        "\n",
        "\t\tif bal < -1 and llave > raiz.derecho.contenido: \n",
        "\t\t\treturn self.izquierdoRotate(raiz) \n",
        "\n",
        "\t\n",
        "\t\tif bal > 1 and llave > raiz.izquierdo.contenido: \n",
        "\t\t\traiz.izquierdo = self.izquierdoRotate(raiz.izquierdo) \n",
        "\t\t\treturn self.derechoRotate(raiz) \n",
        "\n",
        "\n",
        "\t\tif bal < -1 and llave < raiz.derecho.contenido: \n",
        "\t\t\traiz.derecho = self.derechoRotate(raiz.derecho) \n",
        "\t\t\treturn self.izquierdoRotate(raiz) \n",
        "\n",
        "\t\treturn raiz \n",
        "\n",
        "\tdef izquierdoRotate(self, z): \n",
        "\n",
        "\t\ty = z.derecho \n",
        "\t\tT2 = y.izquierdo \n",
        "\t\ty.izquierdo = z \n",
        "\t\tz.derecho = T2 \n",
        "\t\tz.altura = 1 + max(self.getaltura(z.izquierdo), \n",
        "\t\t\t\t\t\tself.getaltura(z.derecho)) \n",
        "\t\ty.altura = 1 + max(self.getaltura(y.izquierdo), \n",
        "\t\t\t\t\t\tself.getaltura(y.derecho)) \n",
        "\n",
        "\t\treturn y \n",
        "\n",
        "\tdef derechoRotate(self, z): \n",
        "\n",
        "\t\ty = z.izquierdo \n",
        "\t\tT3 = y.derecho \n",
        "\n",
        "\n",
        "\t\ty.derecho = z \n",
        "\t\tz.izquierdo = T3 \n",
        "\n",
        "\n",
        "\t\tz.altura = 1 + max(self.getaltura(z.izquierdo), \n",
        "\t\t\t\t\t\tself.getaltura(z.derecho)) \n",
        "\t\ty.altura = 1 + max(self.getaltura(y.izquierdo), \n",
        "\t\t\t\t\t\tself.getaltura(y.derecho)) \n",
        "\n",
        "\n",
        "\t\treturn y \n",
        "\n",
        "\tdef getaltura(self, raiz): \n",
        "\t\tif not raiz: \n",
        "\t\t\treturn 0\n",
        "\n",
        "\t\treturn raiz.altura \n",
        "\n",
        "\tdef getbal(self, raiz): \n",
        "\t\tif not raiz: \n",
        "\t\t\treturn 0\n",
        "\n",
        "\t\treturn self.getaltura(raiz.izquierdo) - self.getaltura(raiz.derecho) \n",
        "  \n",
        "\n",
        "times = {}\n",
        "myTree = AVL_Tree() \n",
        "raiz = None\n",
        "  \n",
        "\n",
        "def test(n,number):\n",
        "  start_time = t.time()\n",
        "  root = myTree.insert(raiz, number) \n",
        "  times[n]= t.time() - start_time\n",
        "  print(\"--- %s seconds ---\" % (times[n]))\n",
        "\n",
        "\n",
        "\n",
        "\n",
        "for i in range(len(arr)):\n",
        "  test(i,arr[i])\n",
        "\n",
        "\n"
      ],
      "execution_count": 24,
      "outputs": [
        {
          "output_type": "stream",
          "text": [
            "--- 4.291534423828125e-06 seconds ---\n",
            "--- 1.9073486328125e-06 seconds ---\n",
            "--- 1.1920928955078125e-06 seconds ---\n",
            "--- 1.430511474609375e-06 seconds ---\n"
          ],
          "name": "stdout"
        },
        {
          "output_type": "display_data",
          "data": {
            "image/png": "[encoded data removed]",
            "text/plain": [
              "<Figure size 432x288 with 1 Axes>"
            ]
          },
          "metadata": {
            "tags": [],
            "needs_background": "light"
          }
        },
        {
          "output_type": "stream",
          "text": [
            "{0: 4.291534423828125e-06, 1: 1.9073486328125e-06, 2: 1.1920928955078125e-06, 3: 1.430511474609375e-06}\n"
          ],
          "name": "stdout"
        }
      ]
    },
    {
      "cell_type": "markdown",
      "metadata": {
        "id": "W_3iaU04aRhI"
      },
      "source": [
        "# Analisis de Complejidad\n",
        "\n",
        "el resultado segun la formula de master method es de orden O(LOG N)\n",
        "\n",
        "\n",
        "#Analisis cualitativo\n",
        "\n",
        "Este algoritmo lo recuerdo muy bien por que fue mi examen en Estructura de Datos y cuando lo vi me costo entenderlo mucho debido a que sus rotacion para el ordenamiento tienden a confundir, pero al lograrlo entender se da cuenta uno de que la forma que se le va dando al arbol es lo mas conveniente para la busqueda, al momento de insertar hay una efectividad alta por el siemple hecho de que siempre vamos reduciendo la altura de donde se va extrayendo la raiz y eso va generando una insercion de orden O(1) y lo mejor es que la altura, balanceos y extraciones se ejecutan solo una vez ya que no se mueven mas cosas"
      ]
    }
  ]
}